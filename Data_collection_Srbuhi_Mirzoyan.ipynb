{
 "cells": [
  {
   "cell_type": "markdown",
   "metadata": {},
   "source": [
    "# Data collection"
   ]
  },
  {
   "cell_type": "markdown",
   "metadata": {},
   "source": [
    "<p>The following notebook provides script of scraping the data from <b>gsmarena.com</b>\n",
    "The general sequence of steps I followed are:\n",
    "    \n",
    "1. [Getting all mobile urls through the sitemap](#load)\n",
    "2. [Crawling randomly selected subset of all urls](#func)  \n",
    "3. [Saving the data into csv](#crawl)"
   ]
  },
  {
   "cell_type": "markdown",
   "metadata": {},
   "source": [
    " <h2>1.Getting all mobile urls through the sitemap</h2> <a name=\"load\"></a>"
   ]
  },
  {
   "cell_type": "code",
   "execution_count": 2,
   "metadata": {},
   "outputs": [],
   "source": [
    "from gsm_arena_scraper import*\n",
    "import numpy as np\n",
    "import random"
   ]
  },
  {
   "cell_type": "code",
   "execution_count": 3,
   "metadata": {},
   "outputs": [],
   "source": [
    "#here we can see all the links of phones with respective info on features and price in gsmarena website\n",
    "phone_urls=phones_url_list(\"https://www.gsmarena.com/sitemap-phones.xml\")"
   ]
  },
  {
   "cell_type": "code",
   "execution_count": 4,
   "metadata": {},
   "outputs": [
    {
     "data": {
      "text/plain": [
       "10875"
      ]
     },
     "execution_count": 4,
     "metadata": {},
     "output_type": "execute_result"
    }
   ],
   "source": [
    "#there are in total 10875 urls\n",
    "len(phone_urls)"
   ]
  },
  {
   "cell_type": "markdown",
   "metadata": {},
   "source": [
    " <h2>2.Crawling randomly selected subset of all urls</h2> <a name=\"func\"></a>"
   ]
  },
  {
   "cell_type": "code",
   "execution_count": 5,
   "metadata": {},
   "outputs": [],
   "source": [
    "#selecting subset to be scraped\n",
    "random.seed(42)\n",
    "phone_subset=random.sample(phone_urls, 5500)"
   ]
  },
  {
   "cell_type": "code",
   "execution_count": 6,
   "metadata": {},
   "outputs": [],
   "source": [
    "#crawling\n",
    "final_output=[]\n",
    "for link in phone_subset:\n",
    "    try:\n",
    "        final_output.append(phone_info_scraper(link))\n",
    "    except:\n",
    "        continue"
   ]
  },
  {
   "cell_type": "code",
   "execution_count": 7,
   "metadata": {},
   "outputs": [],
   "source": [
    "#savig the data in dataframe\n",
    "Final_data_gsm=pd.DataFrame(final_output)"
   ]
  },
  {
   "cell_type": "code",
   "execution_count": 8,
   "metadata": {},
   "outputs": [
    {
     "data": {
      "text/plain": [
       "4874"
      ]
     },
     "execution_count": 8,
     "metadata": {},
     "output_type": "execute_result"
    }
   ],
   "source": [
    "len(Final_data_gsm)"
   ]
  },
  {
   "cell_type": "markdown",
   "metadata": {},
   "source": [
    " <h2>3.Saving the data into csv</h2> <a name=\"crawl\"></a>"
   ]
  },
  {
   "cell_type": "code",
   "execution_count": 9,
   "metadata": {},
   "outputs": [],
   "source": [
    "#converting data to csv format\n",
    "Final_data_gsm.to_csv(\"Final_data_gsm.csv\", index=False, header=True)"
   ]
  },
  {
   "cell_type": "code",
   "execution_count": 10,
   "metadata": {},
   "outputs": [
    {
     "name": "stdout",
     "output_type": "stream",
     "text": [
      "<class 'pandas.core.frame.DataFrame'>\n",
      "RangeIndex: 4874 entries, 0 to 4873\n",
      "Data columns (total 70 columns):\n",
      "Unnamed: 0       4 non-null object\n",
      "2G bands         4874 non-null object\n",
      "3.5mm jack       4843 non-null object\n",
      "3G bands         2946 non-null object\n",
      "4G bands         1279 non-null object\n",
      "5G               5 non-null object\n",
      "Alarm            228 non-null object\n",
      "Alert types      1238 non-null object\n",
      "Announced        4864 non-null object\n",
      "Audio quality    422 non-null object\n",
      "Battery life     313 non-null object\n",
      "Bluetooth        4872 non-null object\n",
      "Browser          1819 non-null object\n",
      "Build            381 non-null object\n",
      "CPU              2961 non-null object\n",
      "Call records     1796 non-null object\n",
      "Camera           395 non-null object\n",
      "Card slot        4874 non-null object\n",
      "Charging         412 non-null object\n",
      "Chipset          2388 non-null object\n",
      "Clock            228 non-null object\n",
      "Colors           4567 non-null object\n",
      "Dimensions       4859 non-null object\n",
      "Display          322 non-null object\n",
      "Dual             213 non-null object\n",
      "EDGE             2034 non-null object\n",
      "Features         2569 non-null object\n",
      "Five             1 non-null object\n",
      "GPRS             2025 non-null object\n",
      "GPS              4860 non-null object\n",
      "GPU              2321 non-null object\n",
      "Games            1840 non-null object\n",
      "Infrared port    521 non-null object\n",
      "Internal         4002 non-null object\n",
      "Java             1828 non-null object\n",
      "Keyboard         366 non-null object\n",
      "Languages        140 non-null object\n",
      "Loudspeaker      462 non-null object\n",
      "Loudspeaker      4874 non-null object\n",
      "Messaging        1867 non-null object\n",
      "Models           910 non-null object\n",
      "Music play       378 non-null object\n",
      "NFC              564 non-null object\n",
      "OS               3006 non-null object\n",
      "Performance      242 non-null object\n",
      "Phonebook        1836 non-null object\n",
      "Price            2980 non-null object\n",
      "Protection       896 non-null object\n",
      "Quad             6 non-null object\n",
      "Radio            4831 non-null object\n",
      "Resolution       4848 non-null object\n",
      "SAR              1038 non-null object\n",
      "SAR EU           1184 non-null object\n",
      "SIM              4873 non-null object\n",
      "Sensors          2845 non-null object\n",
      "Single           4239 non-null object\n",
      "Size             4272 non-null object\n",
      "Speed            2964 non-null object\n",
      "Stand-by         3429 non-null object\n",
      "Status           4874 non-null object\n",
      "Talk time        3584 non-null object\n",
      "Technology       4874 non-null object\n",
      "Triple           39 non-null object\n",
      "Type             4872 non-null object\n",
      "USB              4424 non-null object\n",
      "Video            2294 non-null object\n",
      "WLAN             4872 non-null object\n",
      "Weight           4819 non-null object\n",
      "model_name       4874 non-null object\n",
      "                 4873 non-null object\n",
      "dtypes: object(70)\n",
      "memory usage: 2.6+ MB\n"
     ]
    }
   ],
   "source": [
    "#scraped data overview\n",
    "pd.read_csv(\"Final_data_gsm.csv\").info()"
   ]
  }
 ],
 "metadata": {
  "kernelspec": {
   "display_name": "Python 3",
   "language": "python",
   "name": "python3"
  },
  "language_info": {
   "codemirror_mode": {
    "name": "ipython",
    "version": 3
   },
   "file_extension": ".py",
   "mimetype": "text/x-python",
   "name": "python",
   "nbconvert_exporter": "python",
   "pygments_lexer": "ipython3",
   "version": "3.7.1"
  }
 },
 "nbformat": 4,
 "nbformat_minor": 2
}
